{
 "cells": [
  {
   "cell_type": "code",
   "execution_count": 1,
   "id": "c5a47573-6f62-47b1-b439-bdd71231503c",
   "metadata": {},
   "outputs": [
    {
     "name": "stdout",
     "output_type": "stream",
     "text": [
      "make: `partition-validation' is up to date.\n"
     ]
    }
   ],
   "source": [
    "!make -C partition-validation"
   ]
  },
  {
   "cell_type": "code",
   "execution_count": 4,
   "id": "65598b05-349f-463d-bb80-5973acf28b47",
   "metadata": {},
   "outputs": [
    {
     "name": "stdout",
     "output_type": "stream",
     "text": [
      "fatal: destination path 'significance-clustering' already exists and is not an empty directory.\n",
      "\u001b[0m\u001b[0m\u001b[1m\u001b[32m   Compiling\u001b[0m cfg-if v1.0.0\n",
      "\u001b[0m\u001b[0m\u001b[1m\u001b[32m   Compiling\u001b[0m libc v0.2.119\n",
      "\u001b[0m\u001b[0m\u001b[1m\u001b[32m   Compiling\u001b[0m autocfg v1.1.0\n",
      "\u001b[0m\u001b[0m\u001b[1m\u001b[32m   Compiling\u001b[0m crossbeam-utils v0.8.7\n",
      "\u001b[0m\u001b[0m\u001b[1m\u001b[32m   Compiling\u001b[0m lazy_static v1.4.0\n",
      "\u001b[0m\u001b[0m\u001b[1m\u001b[32m   Compiling\u001b[0m crossbeam-epoch v0.9.7\n",
      "\u001b[0m\u001b[0m\u001b[1m\u001b[32m   Compiling\u001b[0m rayon-core v1.9.1\n",
      "\u001b[0m\u001b[0m\u001b[1m\u001b[32m   Compiling\u001b[0m scopeguard v1.1.0\n",
      "\u001b[0m\u001b[0m\u001b[1m\u001b[32m   Compiling\u001b[0m version_check v0.9.4\n",
      "\u001b[0m\u001b[0m\u001b[1m\u001b[32m   Compiling\u001b[0m either v1.6.1\n",
      "\u001b[K\u001b[0m\u001b[0m\u001b[1m\u001b[32m   Compiling\u001b[0m ppv-lite86 v0.2.16        ] 0/40: scopeguard, version_check...\n",
      "\u001b[K\u001b[0m\u001b[0m\u001b[1m\u001b[32m   Compiling\u001b[0m once_cell v1.10.0         ] 1/40: scopeguard, version_check...\n",
      "\u001b[K\u001b[0m\u001b[0m\u001b[1m\u001b[32m   Compiling\u001b[0m itertools v0.10.3         ] 3/40: version_check, either, pp...\n",
      "\u001b[K\u001b[0m\u001b[0m\u001b[1m\u001b[32m   Compiling\u001b[0m memoffset v0.6.5          ] 5/40: version_check, ppv-lite86...\n",
      "\u001b[0m\u001b[0m\u001b[1m\u001b[32m   Compiling\u001b[0m rayon v1.5.1\n",
      "\u001b[K\u001b[0m\u001b[0m\u001b[1m\u001b[32m   Compiling\u001b[0m ahash v0.7.6              ] 6/40: version_check, memoffset(...\n",
      "\u001b[K\u001b[0m\u001b[0m\u001b[1m\u001b[32m   Compiling\u001b[0m crossbeam-channel v0.5.2 ] 21/40: crossbeam-utils, crossbea...\n",
      "\u001b[K\u001b[0m\u001b[0m\u001b[1m\u001b[32m   Compiling\u001b[0m crossbeam-deque v0.8.1   ] 23/40: crossbeam-epoch, crossbea...\n",
      "\u001b[K\u001b[0m\u001b[0m\u001b[1m\u001b[32m   Compiling\u001b[0m getrandom v0.2.5         ] 27/40: libc, rayon(build)          \n",
      "\u001b[0m\u001b[0m\u001b[1m\u001b[32m   Compiling\u001b[0m num_cpus v1.13.1\n",
      "\u001b[K\u001b[0m\u001b[0m\u001b[1m\u001b[32m   Compiling\u001b[0m rand_core v0.6.3>        ] 29/40: rayon-core, getrandom, ra...\n",
      "\u001b[K\u001b[0m\u001b[0m\u001b[1m\u001b[32m   Compiling\u001b[0m rand_chacha v0.3.1       ] 30/40: ahash, rayon-core, rand_c...\n",
      "\u001b[K\u001b[0m\u001b[0m\u001b[1m\u001b[32m   Compiling\u001b[0m rand v0.8.5========>     ] 33/40: rayon, rand_chacha, rayon...\n",
      "\u001b[K\u001b[0m\u001b[0m\u001b[1m\u001b[32m   Compiling\u001b[0m hashbrown v0.12.0===>    ] 35/40: rayon, rand_chacha          \n",
      "\u001b[K\u001b[0m\u001b[0m\u001b[1m\u001b[32m   Compiling\u001b[0m significance-clustering v0.1.0 (/Users/anton/Kod/icelab/projects/dolores-clustering/significance-clustering)\n",
      "\u001b[K\u001b[0m\u001b[1m\u001b[33mwarning\u001b[0m\u001b[0m\u001b[1m: the feature `bool_to_option` has been stable since 1.62.0 and no longer requires an attribute to enable\u001b[0m\n",
      "\u001b[0m \u001b[0m\u001b[0m\u001b[1m\u001b[38;5;12m--> \u001b[0m\u001b[0msrc/lib.rs:3:12\u001b[0m\n",
      "\u001b[0m  \u001b[0m\u001b[0m\u001b[1m\u001b[38;5;12m|\u001b[0m\n",
      "\u001b[0m\u001b[1m\u001b[38;5;12m3\u001b[0m\u001b[0m \u001b[0m\u001b[0m\u001b[1m\u001b[38;5;12m| \u001b[0m\u001b[0m#![feature(bool_to_option)]\u001b[0m\n",
      "\u001b[0m  \u001b[0m\u001b[0m\u001b[1m\u001b[38;5;12m| \u001b[0m\u001b[0m           \u001b[0m\u001b[0m\u001b[1m\u001b[33m^^^^^^^^^^^^^^\u001b[0m\n",
      "\u001b[0m  \u001b[0m\u001b[0m\u001b[1m\u001b[38;5;12m|\u001b[0m\n",
      "\u001b[0m  \u001b[0m\u001b[0m\u001b[1m\u001b[38;5;12m= \u001b[0m\u001b[0m\u001b[1mnote\u001b[0m\u001b[0m: `#[warn(stable_features)]` on by default\u001b[0m\n",
      "\n",
      "\u001b[K\u001b[0m\u001b[0m\u001b[1m\u001b[33mwarning\u001b[0m\u001b[1m:\u001b[0m `significance-clustering` (lib) generated 1 warningng     \n",
      "\u001b[K\u001b[0m\u001b[0m\u001b[1m\u001b[32m    Finished\u001b[0m release [optimized] target(s) in 8.64sificance-clustering(bin)\n"
     ]
    }
   ],
   "source": [
    "!git clone https://github.com/mapequation/multilevel-significance-clustering significance-clustering\n",
    "!cd significance-clustering && cargo build --release"
   ]
  },
  {
   "cell_type": "code",
   "execution_count": null,
   "id": "9b538103-12f5-4392-8c04-56e70f9f89a2",
   "metadata": {},
   "outputs": [],
   "source": []
  }
 ],
 "metadata": {
  "kernelspec": {
   "display_name": "Python 3 (ipykernel)",
   "language": "python",
   "name": "python3"
  },
  "language_info": {
   "codemirror_mode": {
    "name": "ipython",
    "version": 3
   },
   "file_extension": ".py",
   "mimetype": "text/x-python",
   "name": "python",
   "nbconvert_exporter": "python",
   "pygments_lexer": "ipython3",
   "version": "3.9.7"
  }
 },
 "nbformat": 4,
 "nbformat_minor": 5
}
