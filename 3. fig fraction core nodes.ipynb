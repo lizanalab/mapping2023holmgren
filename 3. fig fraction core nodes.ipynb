{
 "cells": [
  {
   "cell_type": "code",
   "execution_count": 1,
   "metadata": {
    "tags": []
   },
   "outputs": [],
   "source": [
    "import numpy as np\n",
    "import seaborn as sns; sns.set()\n",
    "import matplotlib.pyplot as plt\n",
    "import pandas as pd\n",
    "import glob\n",
    "import re\n",
    "from common import *"
   ]
  },
  {
   "cell_type": "code",
   "execution_count": 2,
   "metadata": {
    "collapsed": false,
    "jupyter": {
     "outputs_hidden": false
    }
   },
   "outputs": [],
   "source": [
    "chromosome = 10"
   ]
  },
  {
   "cell_type": "code",
   "execution_count": 3,
   "metadata": {
    "collapsed": false,
    "jupyter": {
     "outputs_hidden": false
    }
   },
   "outputs": [
    {
     "data": {
      "text/html": [
       "<div>\n",
       "<style scoped>\n",
       "    .dataframe tbody tr th:only-of-type {\n",
       "        vertical-align: middle;\n",
       "    }\n",
       "\n",
       "    .dataframe tbody tr th {\n",
       "        vertical-align: top;\n",
       "    }\n",
       "\n",
       "    .dataframe thead th {\n",
       "        text-align: right;\n",
       "    }\n",
       "</style>\n",
       "<table border=\"1\" class=\"dataframe\">\n",
       "  <thead>\n",
       "    <tr style=\"text-align: right;\">\n",
       "      <th></th>\n",
       "      <th>$\\alpha$</th>\n",
       "      <th>$\\gamma$</th>\n",
       "      <th>fraction of core nodes</th>\n",
       "      <th>fraction of fringe nodes</th>\n",
       "      <th>eff. community size (Mb)</th>\n",
       "      <th>cluster</th>\n",
       "      <th>cluster size</th>\n",
       "      <th>$Q$</th>\n",
       "      <th>$Q_{rel}$</th>\n",
       "    </tr>\n",
       "  </thead>\n",
       "  <tbody>\n",
       "    <tr>\n",
       "      <th>0</th>\n",
       "      <td>0.75</td>\n",
       "      <td>1.75</td>\n",
       "      <td>0.879794</td>\n",
       "      <td>0.120206</td>\n",
       "      <td>0.536284</td>\n",
       "      <td>0</td>\n",
       "      <td>545</td>\n",
       "      <td>0.351025</td>\n",
       "      <td>1.000000</td>\n",
       "    </tr>\n",
       "    <tr>\n",
       "      <th>1</th>\n",
       "      <td>0.75</td>\n",
       "      <td>1.75</td>\n",
       "      <td>0.886431</td>\n",
       "      <td>0.113569</td>\n",
       "      <td>0.536284</td>\n",
       "      <td>10</td>\n",
       "      <td>103</td>\n",
       "      <td>0.350946</td>\n",
       "      <td>0.999775</td>\n",
       "    </tr>\n",
       "    <tr>\n",
       "      <th>2</th>\n",
       "      <td>0.75</td>\n",
       "      <td>1.15</td>\n",
       "      <td>0.838496</td>\n",
       "      <td>0.161504</td>\n",
       "      <td>1.821570</td>\n",
       "      <td>0</td>\n",
       "      <td>103</td>\n",
       "      <td>0.541554</td>\n",
       "      <td>1.000000</td>\n",
       "    </tr>\n",
       "    <tr>\n",
       "      <th>3</th>\n",
       "      <td>0.75</td>\n",
       "      <td>1.15</td>\n",
       "      <td>0.856932</td>\n",
       "      <td>0.143068</td>\n",
       "      <td>1.821570</td>\n",
       "      <td>1</td>\n",
       "      <td>113</td>\n",
       "      <td>0.541233</td>\n",
       "      <td>0.999406</td>\n",
       "    </tr>\n",
       "    <tr>\n",
       "      <th>4</th>\n",
       "      <td>0.75</td>\n",
       "      <td>1.65</td>\n",
       "      <td>0.901180</td>\n",
       "      <td>0.098820</td>\n",
       "      <td>0.669751</td>\n",
       "      <td>0</td>\n",
       "      <td>568</td>\n",
       "      <td>0.371284</td>\n",
       "      <td>1.000000</td>\n",
       "    </tr>\n",
       "  </tbody>\n",
       "</table>\n",
       "</div>"
      ],
      "text/plain": [
       "  $\\alpha$ $\\gamma$  fraction of core nodes  fraction of fringe nodes  \\\n",
       "0     0.75     1.75                0.879794                  0.120206   \n",
       "1     0.75     1.75                0.886431                  0.113569   \n",
       "2     0.75     1.15                0.838496                  0.161504   \n",
       "3     0.75     1.15                0.856932                  0.143068   \n",
       "4     0.75     1.65                0.901180                  0.098820   \n",
       "\n",
       "   eff. community size (Mb)  cluster  cluster size       $Q$  $Q_{rel}$  \n",
       "0                  0.536284        0           545  0.351025   1.000000  \n",
       "1                  0.536284       10           103  0.350946   0.999775  \n",
       "2                  1.821570        0           103  0.541554   1.000000  \n",
       "3                  1.821570        1           113  0.541233   0.999406  \n",
       "4                  0.669751        0           568  0.371284   1.000000  "
      ]
     },
     "execution_count": 3,
     "metadata": {},
     "output_type": "execute_result"
    }
   ],
   "source": [
    "data = []\n",
    "\n",
    "cluster_added = {}\n",
    "\n",
    "for alpha in [75, 108]:\n",
    "    files = [f for f in glob.glob(f\"output/A1_chr{chromosome}_gamma*_alpha{alpha}_*.txt\") if not \"partitions\" in f]\n",
    "    #print(files)\n",
    "\n",
    "    gamma_re = re.compile(r\".+gamma(\\d+)_\")\n",
    "    gammas = sorted(set(gamma_re.match(file).group(1) for file in files), key=int)\n",
    "\n",
    "    modularity = pd.read_csv(f\"matlab/output/A1_chr{chromosome}_alpha{alpha}_modularity.csv\", sep=\" \", header=None).T\n",
    "\n",
    "    for file in files:\n",
    "        name_parts = file.split(\"gamma\")[1]\n",
    "        cluster = int(name_parts.split(\"_\")[-1].split(\".\")[0])\n",
    "        gamma = name_parts.split(\"_\", maxsplit=1)[0]\n",
    "\n",
    "        gamma_idx = gammas.index(gamma)\n",
    "        q = modularity[gamma_idx].iloc[cluster]\n",
    "\n",
    "        df = pd.read_csv(file, sep=\" \", names=[\"module\", \"node\", \"level1\"])\n",
    "        significant = df.module[~df.module.str.endswith(\";\")]\n",
    "        num_significant = len(significant)\n",
    "        num_nodes = len(df)\n",
    "\n",
    "        fraction_significant = num_significant / num_nodes\n",
    "\n",
    "        clusters = pd.read_csv(f\"output/A1_chr{chromosome}_gamma{gamma}_alpha{alpha}_partitions.txt\", sep=\" \", comment=\"#\")\n",
    "        cluster_size = clusters.ClusterId.value_counts().to_frame().loc[cluster + 1].ClusterId\n",
    "\n",
    "        df = pd.read_csv(f\"matlab/output/A1_chr{chromosome}_gamma{gamma}_alpha{alpha}_partitions.csv\", sep=\" \", header=None)\n",
    "        df = df.apply(lambda x: x.value_counts())\n",
    "        df = df.apply(lambda x: effective_size(x[~np.isnan(x)]), raw=True)\n",
    "\n",
    "        data.append({\n",
    "                \"$\\\\alpha$\": f\"{alpha / 100}\",\n",
    "                \"$\\gamma$\": str(int(gamma) / 100),\n",
    "                \"fraction of core nodes\": fraction_significant,\n",
    "                \"fraction of fringe nodes\": 1 - fraction_significant,\n",
    "                \"eff. community size (Mb)\": df.mean() / 10,\n",
    "                \"cluster\": cluster,\n",
    "                \"cluster size\": cluster_size,\n",
    "                \"$Q$\": q,\n",
    "                \"$Q_{rel}$\": q / modularity[gamma_idx].max(),\n",
    "            })\n",
    "\n",
    "df = pd.DataFrame(data)\n",
    "df.head()"
   ]
  },
  {
   "cell_type": "code",
   "execution_count": 4,
   "metadata": {
    "collapsed": false,
    "jupyter": {
     "outputs_hidden": false
    }
   },
   "outputs": [
    {
     "data": {
      "image/png": "[encoded data removed]",
      "text/plain": [
       "<Figure size 432x288 with 2 Axes>"
      ]
     },
     "metadata": {},
     "output_type": "display_data"
    }
   ],
   "source": [
    "import matplotlib.colors as colors\n",
    "import matplotlib.ticker as ticker\n",
    "palette = sns.light_palette(\"navy\", reverse=False, as_cmap=True)\n",
    "sns.set_style(\"ticks\")\n",
    "sns.set_context(\"paper\", font_scale=1.5)\n",
    "\n",
    "ax = sns.scatterplot(df[df[\"cluster size\"] >= 100],\n",
    "                     x=\"eff. community size (Mb)\",\n",
    "                     y=\"fraction of core nodes\",\n",
    "                     style=\"$\\\\alpha$\",\n",
    "                     hue=\"$Q_{rel}$\",\n",
    "                     size=\"cluster size\",\n",
    "                     sizes=(1, 50),\n",
    "                     palette=palette,\n",
    "                     edgecolor=palette(100),\n",
    "                     alpha=0.8,\n",
    "                     legend=\"brief\")\n",
    "sns.despine()\n",
    "plt.ylim([0.8, 1])\n",
    "plt.semilogx()\n",
    "\n",
    "\n",
    "norm = plt.Normalize(df[\"$Q_{rel}$\"].min(), df[\"$Q_{rel}$\"].max())\n",
    "sm = plt.cm.ScalarMappable(cmap=palette, norm=norm)\n",
    "sm.set_array([])\n",
    "cb = ax.figure.colorbar(sm, label=\"relative quality $Q/Q_{max}$\")#, format=ticker.LogFormatter(minor_thresholds=(1, 0.9995)))\n",
    "\n",
    "h, l = ax.get_legend_handles_labels()\n",
    "h = [*h[6:8], *h[12:]]\n",
    "l = [*l[6:8], *l[12:]]\n",
    "l[1] = \"100\"\n",
    "l[2] = \"1000\"\n",
    "\n",
    "ax.legend(handles=h, labels=l)\n",
    "sns.move_legend(ax, \"lower center\", ncol=2, title=None, frameon=False, bbox_to_anchor=(0.5, 0.8))\n",
    "\n",
    "#plt.savefig(\"results/fraction_core.pdf\", dpi=600, bbox_inches=\"tight\")"
   ]
  },
  {
   "cell_type": "code",
   "execution_count": null,
   "metadata": {
    "collapsed": false,
    "jupyter": {
     "outputs_hidden": false
    }
   },
   "outputs": [],
   "source": []
  }
 ],
 "metadata": {
  "kernelspec": {
   "display_name": "Python 3 (ipykernel)",
   "language": "python",
   "name": "python3"
  },
  "language_info": {
   "codemirror_mode": {
    "name": "ipython",
    "version": 3
   },
   "file_extension": ".py",
   "mimetype": "text/x-python",
   "name": "python",
   "nbconvert_exporter": "python",
   "pygments_lexer": "ipython3",
   "version": "3.9.7"
  }
 },
 "nbformat": 4,
 "nbformat_minor": 4
}
