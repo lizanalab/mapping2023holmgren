{
 "cells": [
  {
   "cell_type": "code",
   "execution_count": 34,
   "id": "b206e063-9e4c-4122-85ed-be2602c759e4",
   "metadata": {},
   "outputs": [
    {
     "name": "stdout",
     "output_type": "stream",
     "text": [
      "The autoreload extension is already loaded. To reload it, use:\n",
      "  %reload_ext autoreload\n"
     ]
    }
   ],
   "source": [
    "%load_ext autoreload\n",
    "%autoreload 2\n",
    "import pandas as pd\n",
    "import numpy as np\n",
    "import seaborn as sns; sns.set()\n",
    "import matplotlib.pyplot as plt\n",
    "from common import *"
   ]
  },
  {
   "cell_type": "code",
   "execution_count": 41,
   "id": "4007ef6b-57ec-4618-85f1-f06a288372f7",
   "metadata": {},
   "outputs": [],
   "source": [
    "gammas = [50, 55, 60, 65, 70, 75, 80, 85, 90, 95, 100, 105, 110, 115, 120, 125, 130, 135]"
   ]
  },
  {
   "cell_type": "code",
   "execution_count": 42,
   "id": "1c98866a-5640-433f-ab77-116d2d09091b",
   "metadata": {},
   "outputs": [
    {
     "data": {
      "text/plain": "          50        55        60        65        70        75        80   \\\n0    0.500217  0.452474  0.409783  0.373248  0.338791  0.307839  0.281035   \n1    0.500217  0.452474  0.409618  0.373248  0.338788  0.307746  0.280954   \n2    0.500217  0.452474  0.409618  0.373248  0.338781  0.307743  0.280868   \n3    0.500217  0.452474  0.409617  0.373225  0.338781  0.307734  0.280845   \n4    0.500217  0.452474  0.409593  0.373225  0.338748  0.307719  0.280844   \n..        ...       ...       ...       ...       ...       ...       ...   \n995  0.500000  0.450000  0.406638  0.371318  0.336883  0.305121  0.278481   \n996  0.500000  0.450000  0.406512  0.371301  0.336873  0.305048  0.278472   \n997  0.500000  0.450000  0.406184  0.371265  0.336730  0.304973  0.278470   \n998  0.500000  0.450000  0.405582  0.371210  0.336601  0.304841  0.278399   \n999  0.500000  0.450000  0.402116  0.371182  0.336039  0.304501  0.278290   \n\n          85        90        95        100       105       110       115  \\\n0    0.259801  0.246389  0.239313  0.234483  0.231137  0.228761  0.226965   \n1    0.259650  0.246366  0.239312  0.234464  0.231077  0.228749  0.226935   \n2    0.259620  0.246354  0.239303  0.234459  0.231069  0.228734  0.226888   \n3    0.259528  0.246350  0.239254  0.234433  0.231052  0.228724  0.226878   \n4    0.259484  0.246350  0.239251  0.234378  0.231047  0.228710  0.226876   \n..        ...       ...       ...       ...       ...       ...       ...   \n995  0.257451  0.244589  0.237995  0.233448  0.230281  0.227910  0.226188   \n996  0.257441  0.244572  0.237992  0.233426  0.230273  0.227864  0.226163   \n997  0.257395  0.244557  0.237984  0.233400  0.230257  0.227862  0.226156   \n998  0.257160  0.244528  0.237957  0.233395  0.230222  0.227850  0.226144   \n999  0.256972  0.244414  0.237802  0.233365  0.230203  0.227805  0.226084   \n\n          120       125       130       135  \n0    0.225546  0.224532  0.223578  0.222801  \n1    0.225535  0.224481  0.223552  0.222794  \n2    0.225531  0.224438  0.223540  0.222783  \n3    0.225516  0.224434  0.223536  0.222775  \n4    0.225510  0.224427  0.223526  0.222767  \n..        ...       ...       ...       ...  \n995  0.224831  0.223739  0.222980  0.222230  \n996  0.224829  0.223733  0.222930  0.222223  \n997  0.224753  0.223731  0.222885  0.222213  \n998  0.224717  0.223702  0.222864  0.222183  \n999  0.224646  0.223648  0.222798  0.222154  \n\n[1000 rows x 18 columns]",
      "text/html": "<div>\n<style scoped>\n    .dataframe tbody tr th:only-of-type {\n        vertical-align: middle;\n    }\n\n    .dataframe tbody tr th {\n        vertical-align: top;\n    }\n\n    .dataframe thead th {\n        text-align: right;\n    }\n</style>\n<table border=\"1\" class=\"dataframe\">\n  <thead>\n    <tr style=\"text-align: right;\">\n      <th></th>\n      <th>50</th>\n      <th>55</th>\n      <th>60</th>\n      <th>65</th>\n      <th>70</th>\n      <th>75</th>\n      <th>80</th>\n      <th>85</th>\n      <th>90</th>\n      <th>95</th>\n      <th>100</th>\n      <th>105</th>\n      <th>110</th>\n      <th>115</th>\n      <th>120</th>\n      <th>125</th>\n      <th>130</th>\n      <th>135</th>\n    </tr>\n  </thead>\n  <tbody>\n    <tr>\n      <th>0</th>\n      <td>0.500217</td>\n      <td>0.452474</td>\n      <td>0.409783</td>\n      <td>0.373248</td>\n      <td>0.338791</td>\n      <td>0.307839</td>\n      <td>0.281035</td>\n      <td>0.259801</td>\n      <td>0.246389</td>\n      <td>0.239313</td>\n      <td>0.234483</td>\n      <td>0.231137</td>\n      <td>0.228761</td>\n      <td>0.226965</td>\n      <td>0.225546</td>\n      <td>0.224532</td>\n      <td>0.223578</td>\n      <td>0.222801</td>\n    </tr>\n    <tr>\n      <th>1</th>\n      <td>0.500217</td>\n      <td>0.452474</td>\n      <td>0.409618</td>\n      <td>0.373248</td>\n      <td>0.338788</td>\n      <td>0.307746</td>\n      <td>0.280954</td>\n      <td>0.259650</td>\n      <td>0.246366</td>\n      <td>0.239312</td>\n      <td>0.234464</td>\n      <td>0.231077</td>\n      <td>0.228749</td>\n      <td>0.226935</td>\n      <td>0.225535</td>\n      <td>0.224481</td>\n      <td>0.223552</td>\n      <td>0.222794</td>\n    </tr>\n    <tr>\n      <th>2</th>\n      <td>0.500217</td>\n      <td>0.452474</td>\n      <td>0.409618</td>\n      <td>0.373248</td>\n      <td>0.338781</td>\n      <td>0.307743</td>\n      <td>0.280868</td>\n      <td>0.259620</td>\n      <td>0.246354</td>\n      <td>0.239303</td>\n      <td>0.234459</td>\n      <td>0.231069</td>\n      <td>0.228734</td>\n      <td>0.226888</td>\n      <td>0.225531</td>\n      <td>0.224438</td>\n      <td>0.223540</td>\n      <td>0.222783</td>\n    </tr>\n    <tr>\n      <th>3</th>\n      <td>0.500217</td>\n      <td>0.452474</td>\n      <td>0.409617</td>\n      <td>0.373225</td>\n      <td>0.338781</td>\n      <td>0.307734</td>\n      <td>0.280845</td>\n      <td>0.259528</td>\n      <td>0.246350</td>\n      <td>0.239254</td>\n      <td>0.234433</td>\n      <td>0.231052</td>\n      <td>0.228724</td>\n      <td>0.226878</td>\n      <td>0.225516</td>\n      <td>0.224434</td>\n      <td>0.223536</td>\n      <td>0.222775</td>\n    </tr>\n    <tr>\n      <th>4</th>\n      <td>0.500217</td>\n      <td>0.452474</td>\n      <td>0.409593</td>\n      <td>0.373225</td>\n      <td>0.338748</td>\n      <td>0.307719</td>\n      <td>0.280844</td>\n      <td>0.259484</td>\n      <td>0.246350</td>\n      <td>0.239251</td>\n      <td>0.234378</td>\n      <td>0.231047</td>\n      <td>0.228710</td>\n      <td>0.226876</td>\n      <td>0.225510</td>\n      <td>0.224427</td>\n      <td>0.223526</td>\n      <td>0.222767</td>\n    </tr>\n    <tr>\n      <th>...</th>\n      <td>...</td>\n      <td>...</td>\n      <td>...</td>\n      <td>...</td>\n      <td>...</td>\n      <td>...</td>\n      <td>...</td>\n      <td>...</td>\n      <td>...</td>\n      <td>...</td>\n      <td>...</td>\n      <td>...</td>\n      <td>...</td>\n      <td>...</td>\n      <td>...</td>\n      <td>...</td>\n      <td>...</td>\n      <td>...</td>\n    </tr>\n    <tr>\n      <th>995</th>\n      <td>0.500000</td>\n      <td>0.450000</td>\n      <td>0.406638</td>\n      <td>0.371318</td>\n      <td>0.336883</td>\n      <td>0.305121</td>\n      <td>0.278481</td>\n      <td>0.257451</td>\n      <td>0.244589</td>\n      <td>0.237995</td>\n      <td>0.233448</td>\n      <td>0.230281</td>\n      <td>0.227910</td>\n      <td>0.226188</td>\n      <td>0.224831</td>\n      <td>0.223739</td>\n      <td>0.222980</td>\n      <td>0.222230</td>\n    </tr>\n    <tr>\n      <th>996</th>\n      <td>0.500000</td>\n      <td>0.450000</td>\n      <td>0.406512</td>\n      <td>0.371301</td>\n      <td>0.336873</td>\n      <td>0.305048</td>\n      <td>0.278472</td>\n      <td>0.257441</td>\n      <td>0.244572</td>\n      <td>0.237992</td>\n      <td>0.233426</td>\n      <td>0.230273</td>\n      <td>0.227864</td>\n      <td>0.226163</td>\n      <td>0.224829</td>\n      <td>0.223733</td>\n      <td>0.222930</td>\n      <td>0.222223</td>\n    </tr>\n    <tr>\n      <th>997</th>\n      <td>0.500000</td>\n      <td>0.450000</td>\n      <td>0.406184</td>\n      <td>0.371265</td>\n      <td>0.336730</td>\n      <td>0.304973</td>\n      <td>0.278470</td>\n      <td>0.257395</td>\n      <td>0.244557</td>\n      <td>0.237984</td>\n      <td>0.233400</td>\n      <td>0.230257</td>\n      <td>0.227862</td>\n      <td>0.226156</td>\n      <td>0.224753</td>\n      <td>0.223731</td>\n      <td>0.222885</td>\n      <td>0.222213</td>\n    </tr>\n    <tr>\n      <th>998</th>\n      <td>0.500000</td>\n      <td>0.450000</td>\n      <td>0.405582</td>\n      <td>0.371210</td>\n      <td>0.336601</td>\n      <td>0.304841</td>\n      <td>0.278399</td>\n      <td>0.257160</td>\n      <td>0.244528</td>\n      <td>0.237957</td>\n      <td>0.233395</td>\n      <td>0.230222</td>\n      <td>0.227850</td>\n      <td>0.226144</td>\n      <td>0.224717</td>\n      <td>0.223702</td>\n      <td>0.222864</td>\n      <td>0.222183</td>\n    </tr>\n    <tr>\n      <th>999</th>\n      <td>0.500000</td>\n      <td>0.450000</td>\n      <td>0.402116</td>\n      <td>0.371182</td>\n      <td>0.336039</td>\n      <td>0.304501</td>\n      <td>0.278290</td>\n      <td>0.256972</td>\n      <td>0.244414</td>\n      <td>0.237802</td>\n      <td>0.233365</td>\n      <td>0.230203</td>\n      <td>0.227805</td>\n      <td>0.226084</td>\n      <td>0.224646</td>\n      <td>0.223648</td>\n      <td>0.222798</td>\n      <td>0.222154</td>\n    </tr>\n  </tbody>\n</table>\n<p>1000 rows × 18 columns</p>\n</div>"
     },
     "execution_count": 42,
     "metadata": {},
     "output_type": "execute_result"
    }
   ],
   "source": [
    "modularity = load_modularity_scores(10, gammas, 108)\n",
    "modularity"
   ]
  },
  {
   "cell_type": "code",
   "execution_count": 43,
   "id": "d2114a4a-de87-4257-971c-98b61047fcc9",
   "metadata": {},
   "outputs": [
    {
     "data": {
      "text/plain": "<seaborn.axisgrid.FacetGrid at 0x17d57cd00>"
     },
     "execution_count": 43,
     "metadata": {},
     "output_type": "execute_result"
    },
    {
     "data": {
      "text/plain": "<Figure size 417.975x360 with 1 Axes>",
      "image/png": "[encoded data removed]"
     },
     "metadata": {},
     "output_type": "display_data"
    }
   ],
   "source": [
    "sns.displot(modularity - modularity.mean(), kind=\"kde\", bw_adjust=1)"
   ]
  },
  {
   "cell_type": "code",
   "execution_count": 45,
   "id": "6b017fb1-1a79-4c3b-89bc-b9434c6e94da",
   "metadata": {},
   "outputs": [
    {
     "data": {
      "text/plain": "<matplotlib.collections.PathCollection at 0x17d6ec160>"
     },
     "execution_count": 45,
     "metadata": {},
     "output_type": "execute_result"
    },
    {
     "data": {
      "text/plain": "<Figure size 432x288 with 1 Axes>",
      "image/png": "[encoded data removed]"
     },
     "metadata": {},
     "output_type": "display_data"
    }
   ],
   "source": [
    "plt.scatter(modularity.columns, modularity.std()/modularity.mean())\n",
    "#plt.scatter(modularity.columns, modularity.std())"
   ]
  },
  {
   "cell_type": "code",
   "execution_count": 253,
   "id": "dd70d3c9-7a02-4997-a3c7-2e14339c7d1d",
   "metadata": {},
   "outputs": [
    {
     "data": {
      "text/html": [
       "<div>\n",
       "<style scoped>\n",
       "    .dataframe tbody tr th:only-of-type {\n",
       "        vertical-align: middle;\n",
       "    }\n",
       "\n",
       "    .dataframe tbody tr th {\n",
       "        vertical-align: top;\n",
       "    }\n",
       "\n",
       "    .dataframe thead th {\n",
       "        text-align: right;\n",
       "    }\n",
       "</style>\n",
       "<table border=\"1\" class=\"dataframe\">\n",
       "  <thead>\n",
       "    <tr style=\"text-align: right;\">\n",
       "      <th></th>\n",
       "      <th>ClusterId</th>\n",
       "      <th>PartitionId</th>\n",
       "    </tr>\n",
       "  </thead>\n",
       "  <tbody>\n",
       "    <tr>\n",
       "      <th>0</th>\n",
       "      <td>1</td>\n",
       "      <td>1</td>\n",
       "    </tr>\n",
       "    <tr>\n",
       "      <th>1</th>\n",
       "      <td>1</td>\n",
       "      <td>2</td>\n",
       "    </tr>\n",
       "    <tr>\n",
       "      <th>2</th>\n",
       "      <td>1</td>\n",
       "      <td>3</td>\n",
       "    </tr>\n",
       "    <tr>\n",
       "      <th>3</th>\n",
       "      <td>1</td>\n",
       "      <td>4</td>\n",
       "    </tr>\n",
       "    <tr>\n",
       "      <th>4</th>\n",
       "      <td>1</td>\n",
       "      <td>5</td>\n",
       "    </tr>\n",
       "    <tr>\n",
       "      <th>...</th>\n",
       "      <td>...</td>\n",
       "      <td>...</td>\n",
       "    </tr>\n",
       "    <tr>\n",
       "      <th>995</th>\n",
       "      <td>6</td>\n",
       "      <td>997</td>\n",
       "    </tr>\n",
       "    <tr>\n",
       "      <th>996</th>\n",
       "      <td>6</td>\n",
       "      <td>998</td>\n",
       "    </tr>\n",
       "    <tr>\n",
       "      <th>997</th>\n",
       "      <td>6</td>\n",
       "      <td>999</td>\n",
       "    </tr>\n",
       "    <tr>\n",
       "      <th>998</th>\n",
       "      <td>6</td>\n",
       "      <td>1000</td>\n",
       "    </tr>\n",
       "    <tr>\n",
       "      <th>999</th>\n",
       "      <td>7</td>\n",
       "      <td>937</td>\n",
       "    </tr>\n",
       "  </tbody>\n",
       "</table>\n",
       "<p>1000 rows × 2 columns</p>\n",
       "</div>"
      ],
      "text/plain": [
       "     ClusterId  PartitionId\n",
       "0            1            1\n",
       "1            1            2\n",
       "2            1            3\n",
       "3            1            4\n",
       "4            1            5\n",
       "..         ...          ...\n",
       "995          6          997\n",
       "996          6          998\n",
       "997          6          999\n",
       "998          6         1000\n",
       "999          7          937\n",
       "\n",
       "[1000 rows x 2 columns]"
      ]
     },
     "execution_count": 253,
     "metadata": {},
     "output_type": "execute_result"
    }
   ],
   "source": [
    "gamma = 55\n",
    "partitions, _ = load_partitions(10, gamma)\n",
    "partitions"
   ]
  },
  {
   "cell_type": "code",
   "execution_count": 262,
   "id": "daa7f1cc-4809-46a3-8caf-36abfd76823a",
   "metadata": {},
   "outputs": [
    {
     "data": {
      "text/html": [
       "<div>\n",
       "<style scoped>\n",
       "    .dataframe tbody tr th:only-of-type {\n",
       "        vertical-align: middle;\n",
       "    }\n",
       "\n",
       "    .dataframe tbody tr th {\n",
       "        vertical-align: top;\n",
       "    }\n",
       "\n",
       "    .dataframe thead th {\n",
       "        text-align: right;\n",
       "    }\n",
       "</style>\n",
       "<table border=\"1\" class=\"dataframe\">\n",
       "  <thead>\n",
       "    <tr style=\"text-align: right;\">\n",
       "      <th></th>\n",
       "      <th>55</th>\n",
       "      <th>60</th>\n",
       "      <th>65</th>\n",
       "      <th>70</th>\n",
       "      <th>75</th>\n",
       "    </tr>\n",
       "  </thead>\n",
       "  <tbody>\n",
       "    <tr>\n",
       "      <th>1</th>\n",
       "      <td>877.0</td>\n",
       "      <td>136.0</td>\n",
       "      <td>810.0</td>\n",
       "      <td>117.0</td>\n",
       "      <td>102.0</td>\n",
       "    </tr>\n",
       "    <tr>\n",
       "      <th>2</th>\n",
       "      <td>69.0</td>\n",
       "      <td>123.0</td>\n",
       "      <td>73.0</td>\n",
       "      <td>87.0</td>\n",
       "      <td>42.0</td>\n",
       "    </tr>\n",
       "    <tr>\n",
       "      <th>3</th>\n",
       "      <td>21.0</td>\n",
       "      <td>110.0</td>\n",
       "      <td>21.0</td>\n",
       "      <td>86.0</td>\n",
       "      <td>32.0</td>\n",
       "    </tr>\n",
       "    <tr>\n",
       "      <th>4</th>\n",
       "      <td>13.0</td>\n",
       "      <td>108.0</td>\n",
       "      <td>10.0</td>\n",
       "      <td>60.0</td>\n",
       "      <td>29.0</td>\n",
       "    </tr>\n",
       "    <tr>\n",
       "      <th>5</th>\n",
       "      <td>12.0</td>\n",
       "      <td>83.0</td>\n",
       "      <td>8.0</td>\n",
       "      <td>48.0</td>\n",
       "      <td>20.0</td>\n",
       "    </tr>\n",
       "    <tr>\n",
       "      <th>...</th>\n",
       "      <td>...</td>\n",
       "      <td>...</td>\n",
       "      <td>...</td>\n",
       "      <td>...</td>\n",
       "      <td>...</td>\n",
       "    </tr>\n",
       "    <tr>\n",
       "      <th>463</th>\n",
       "      <td>NaN</td>\n",
       "      <td>NaN</td>\n",
       "      <td>NaN</td>\n",
       "      <td>NaN</td>\n",
       "      <td>1.0</td>\n",
       "    </tr>\n",
       "    <tr>\n",
       "      <th>464</th>\n",
       "      <td>NaN</td>\n",
       "      <td>NaN</td>\n",
       "      <td>NaN</td>\n",
       "      <td>NaN</td>\n",
       "      <td>1.0</td>\n",
       "    </tr>\n",
       "    <tr>\n",
       "      <th>465</th>\n",
       "      <td>NaN</td>\n",
       "      <td>NaN</td>\n",
       "      <td>NaN</td>\n",
       "      <td>NaN</td>\n",
       "      <td>1.0</td>\n",
       "    </tr>\n",
       "    <tr>\n",
       "      <th>466</th>\n",
       "      <td>NaN</td>\n",
       "      <td>NaN</td>\n",
       "      <td>NaN</td>\n",
       "      <td>NaN</td>\n",
       "      <td>1.0</td>\n",
       "    </tr>\n",
       "    <tr>\n",
       "      <th>467</th>\n",
       "      <td>NaN</td>\n",
       "      <td>NaN</td>\n",
       "      <td>NaN</td>\n",
       "      <td>NaN</td>\n",
       "      <td>1.0</td>\n",
       "    </tr>\n",
       "  </tbody>\n",
       "</table>\n",
       "<p>467 rows × 5 columns</p>\n",
       "</div>"
      ],
      "text/plain": [
       "        55     60     65     70     75\n",
       "1    877.0  136.0  810.0  117.0  102.0\n",
       "2     69.0  123.0   73.0   87.0   42.0\n",
       "3     21.0  110.0   21.0   86.0   32.0\n",
       "4     13.0  108.0   10.0   60.0   29.0\n",
       "5     12.0   83.0    8.0   48.0   20.0\n",
       "..     ...    ...    ...    ...    ...\n",
       "463    NaN    NaN    NaN    NaN    1.0\n",
       "464    NaN    NaN    NaN    NaN    1.0\n",
       "465    NaN    NaN    NaN    NaN    1.0\n",
       "466    NaN    NaN    NaN    NaN    1.0\n",
       "467    NaN    NaN    NaN    NaN    1.0\n",
       "\n",
       "[467 rows x 5 columns]"
      ]
     },
     "execution_count": 262,
     "metadata": {},
     "output_type": "execute_result"
    }
   ],
   "source": [
    "sizes = []\n",
    "gammas = [55, 60, 65, 70, 75]\n",
    "\n",
    "for gamma in gammas:\n",
    "    partitions, _ = load_partitions(10, gamma)\n",
    "    sizes_ = partitions.ClusterId.value_counts().reset_index(drop=True)\n",
    "    sizes.append(sizes_.values)\n",
    "\n",
    "sizes = pd.DataFrame(sizes).T\n",
    "sizes.columns = gammas\n",
    "sizes.index = np.arange(1, len(sizes) + 1)\n",
    "sizes"
   ]
  },
  {
   "cell_type": "code",
   "execution_count": 263,
   "id": "ab312382-b19e-4c74-83aa-0d5d9a7e558a",
   "metadata": {},
   "outputs": [
    {
     "data": {
      "text/plain": [
       "<seaborn.axisgrid.FacetGrid at 0x2d7c98a60>"
      ]
     },
     "execution_count": 263,
     "metadata": {},
     "output_type": "execute_result"
    },
    {
     "data": {
      "image/png": "[encoded data removed]",
      "text/plain": [
       "<Figure size 572.125x500 with 1 Axes>"
      ]
     },
     "metadata": {},
     "output_type": "display_data"
    }
   ],
   "source": [
    "sns.displot(sizes)\n",
    "plt.yscale(\"log\")\n",
    "plt.xscale(\"log\")"
   ]
  },
  {
   "cell_type": "code",
   "execution_count": 250,
   "id": "a984bd0e-01cb-41f8-874a-920cae184972",
   "metadata": {},
   "outputs": [
    {
     "data": {
      "text/html": [
       "<div>\n",
       "<style scoped>\n",
       "    .dataframe tbody tr th:only-of-type {\n",
       "        vertical-align: middle;\n",
       "    }\n",
       "\n",
       "    .dataframe tbody tr th {\n",
       "        vertical-align: top;\n",
       "    }\n",
       "\n",
       "    .dataframe thead th {\n",
       "        text-align: right;\n",
       "    }\n",
       "</style>\n",
       "<table border=\"1\" class=\"dataframe\">\n",
       "  <thead>\n",
       "    <tr style=\"text-align: right;\">\n",
       "      <th></th>\n",
       "      <th>55</th>\n",
       "      <th>60</th>\n",
       "      <th>65</th>\n",
       "      <th>70</th>\n",
       "      <th>75</th>\n",
       "    </tr>\n",
       "  </thead>\n",
       "  <tbody>\n",
       "    <tr>\n",
       "      <th>1</th>\n",
       "      <td>877.0</td>\n",
       "      <td>136.0</td>\n",
       "      <td>810.0</td>\n",
       "      <td>117.0</td>\n",
       "      <td>102.0</td>\n",
       "    </tr>\n",
       "    <tr>\n",
       "      <th>2</th>\n",
       "      <td>69.0</td>\n",
       "      <td>123.0</td>\n",
       "      <td>73.0</td>\n",
       "      <td>87.0</td>\n",
       "      <td>42.0</td>\n",
       "    </tr>\n",
       "    <tr>\n",
       "      <th>3</th>\n",
       "      <td>21.0</td>\n",
       "      <td>110.0</td>\n",
       "      <td>21.0</td>\n",
       "      <td>86.0</td>\n",
       "      <td>32.0</td>\n",
       "    </tr>\n",
       "    <tr>\n",
       "      <th>4</th>\n",
       "      <td>13.0</td>\n",
       "      <td>108.0</td>\n",
       "      <td>10.0</td>\n",
       "      <td>60.0</td>\n",
       "      <td>29.0</td>\n",
       "    </tr>\n",
       "    <tr>\n",
       "      <th>5</th>\n",
       "      <td>12.0</td>\n",
       "      <td>83.0</td>\n",
       "      <td>8.0</td>\n",
       "      <td>48.0</td>\n",
       "      <td>20.0</td>\n",
       "    </tr>\n",
       "    <tr>\n",
       "      <th>...</th>\n",
       "      <td>...</td>\n",
       "      <td>...</td>\n",
       "      <td>...</td>\n",
       "      <td>...</td>\n",
       "      <td>...</td>\n",
       "    </tr>\n",
       "    <tr>\n",
       "      <th>463</th>\n",
       "      <td>NaN</td>\n",
       "      <td>NaN</td>\n",
       "      <td>NaN</td>\n",
       "      <td>NaN</td>\n",
       "      <td>1.0</td>\n",
       "    </tr>\n",
       "    <tr>\n",
       "      <th>464</th>\n",
       "      <td>NaN</td>\n",
       "      <td>NaN</td>\n",
       "      <td>NaN</td>\n",
       "      <td>NaN</td>\n",
       "      <td>1.0</td>\n",
       "    </tr>\n",
       "    <tr>\n",
       "      <th>465</th>\n",
       "      <td>NaN</td>\n",
       "      <td>NaN</td>\n",
       "      <td>NaN</td>\n",
       "      <td>NaN</td>\n",
       "      <td>1.0</td>\n",
       "    </tr>\n",
       "    <tr>\n",
       "      <th>466</th>\n",
       "      <td>NaN</td>\n",
       "      <td>NaN</td>\n",
       "      <td>NaN</td>\n",
       "      <td>NaN</td>\n",
       "      <td>1.0</td>\n",
       "    </tr>\n",
       "    <tr>\n",
       "      <th>467</th>\n",
       "      <td>NaN</td>\n",
       "      <td>NaN</td>\n",
       "      <td>NaN</td>\n",
       "      <td>NaN</td>\n",
       "      <td>1.0</td>\n",
       "    </tr>\n",
       "  </tbody>\n",
       "</table>\n",
       "<p>467 rows × 5 columns</p>\n",
       "</div>"
      ],
      "text/plain": [
       "        55     60     65     70     75\n",
       "1    877.0  136.0  810.0  117.0  102.0\n",
       "2     69.0  123.0   73.0   87.0   42.0\n",
       "3     21.0  110.0   21.0   86.0   32.0\n",
       "4     13.0  108.0   10.0   60.0   29.0\n",
       "5     12.0   83.0    8.0   48.0   20.0\n",
       "..     ...    ...    ...    ...    ...\n",
       "463    NaN    NaN    NaN    NaN    1.0\n",
       "464    NaN    NaN    NaN    NaN    1.0\n",
       "465    NaN    NaN    NaN    NaN    1.0\n",
       "466    NaN    NaN    NaN    NaN    1.0\n",
       "467    NaN    NaN    NaN    NaN    1.0\n",
       "\n",
       "[467 rows x 5 columns]"
      ]
     },
     "execution_count": 250,
     "metadata": {},
     "output_type": "execute_result"
    }
   ],
   "source": [
    "sizes"
   ]
  },
  {
   "cell_type": "code",
   "execution_count": 264,
   "id": "e08ce7cb-eff9-47a9-8f03-b78e5755b063",
   "metadata": {},
   "outputs": [
    {
     "data": {
      "image/png": "[encoded data removed]",
      "text/plain": [
       "<Figure size 572.125x500 with 1 Axes>"
      ]
     },
     "metadata": {},
     "output_type": "display_data"
    }
   ],
   "source": [
    "sns.relplot(sizes, kind=\"line\")\n",
    "plt.xscale(\"log\")\n",
    "plt.yscale(\"log\")"
   ]
  },
  {
   "cell_type": "code",
   "execution_count": null,
   "id": "77e439b2-1329-4ca0-9cf6-66fc9b756765",
   "metadata": {},
   "outputs": [],
   "source": []
  }
 ],
 "metadata": {
  "kernelspec": {
   "display_name": "Python 3 (ipykernel)",
   "language": "python",
   "name": "python3"
  },
  "language_info": {
   "codemirror_mode": {
    "name": "ipython",
    "version": 3
   },
   "file_extension": ".py",
   "mimetype": "text/x-python",
   "name": "python",
   "nbconvert_exporter": "python",
   "pygments_lexer": "ipython3",
   "version": "3.9.7"
  }
 },
 "nbformat": 4,
 "nbformat_minor": 5
}
