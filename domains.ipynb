{
 "cells": [
  {
   "cell_type": "code",
   "execution_count": 4,
   "id": "e561fc50-a691-4333-8dd6-2e01a2708984",
   "metadata": {},
   "outputs": [],
   "source": [
    "import pandas as pd\n",
    "import numpy as np\n",
    "import seaborn as sns; sns.set()\n",
    "import matplotlib.pyplot as plt\n",
    "from sklearn.metrics import adjusted_mutual_info_score, adjusted_rand_score\n",
    "import itertools\n",
    "from common import *"
   ]
  },
  {
   "cell_type": "code",
   "execution_count": 5,
   "id": "0ebae39a-0dd1-4f9f-98eb-22c3547f64a4",
   "metadata": {},
   "outputs": [],
   "source": [
    "chromosome = 10"
   ]
  },
  {
   "cell_type": "markdown",
   "id": "666be9e5-db1a-4085-8209-f06e62679b81",
   "metadata": {},
   "source": [
    "# Arrowhead"
   ]
  },
  {
   "cell_type": "code",
   "execution_count": 150,
   "id": "c1750c39-5060-45d1-a809-8128c425fc5c",
   "metadata": {},
   "outputs": [
    {
     "data": {
      "text/html": [
       "<div>\n",
       "<style scoped>\n",
       "    .dataframe tbody tr th:only-of-type {\n",
       "        vertical-align: middle;\n",
       "    }\n",
       "\n",
       "    .dataframe tbody tr th {\n",
       "        vertical-align: top;\n",
       "    }\n",
       "\n",
       "    .dataframe thead th {\n",
       "        text-align: right;\n",
       "    }\n",
       "</style>\n",
       "<table border=\"1\" class=\"dataframe\">\n",
       "  <thead>\n",
       "    <tr style=\"text-align: right;\">\n",
       "      <th></th>\n",
       "      <th>chr1</th>\n",
       "      <th>x1</th>\n",
       "      <th>x2</th>\n",
       "      <th>chr2</th>\n",
       "      <th>y1</th>\n",
       "      <th>y2</th>\n",
       "      <th>start</th>\n",
       "      <th>end</th>\n",
       "      <th>size</th>\n",
       "    </tr>\n",
       "  </thead>\n",
       "  <tbody>\n",
       "    <tr>\n",
       "      <th>889</th>\n",
       "      <td>10</td>\n",
       "      <td>127640000</td>\n",
       "      <td>129495000</td>\n",
       "      <td>10</td>\n",
       "      <td>127640000</td>\n",
       "      <td>129495000</td>\n",
       "      <td>1276.40</td>\n",
       "      <td>1294.95</td>\n",
       "      <td>18.55</td>\n",
       "    </tr>\n",
       "    <tr>\n",
       "      <th>890</th>\n",
       "      <td>10</td>\n",
       "      <td>86420000</td>\n",
       "      <td>88145000</td>\n",
       "      <td>10</td>\n",
       "      <td>86420000</td>\n",
       "      <td>88145000</td>\n",
       "      <td>864.20</td>\n",
       "      <td>881.45</td>\n",
       "      <td>17.25</td>\n",
       "    </tr>\n",
       "    <tr>\n",
       "      <th>891</th>\n",
       "      <td>10</td>\n",
       "      <td>9365000</td>\n",
       "      <td>11065000</td>\n",
       "      <td>10</td>\n",
       "      <td>9365000</td>\n",
       "      <td>11065000</td>\n",
       "      <td>93.65</td>\n",
       "      <td>110.65</td>\n",
       "      <td>17.00</td>\n",
       "    </tr>\n",
       "    <tr>\n",
       "      <th>893</th>\n",
       "      <td>10</td>\n",
       "      <td>132020000</td>\n",
       "      <td>133380000</td>\n",
       "      <td>10</td>\n",
       "      <td>132020000</td>\n",
       "      <td>133380000</td>\n",
       "      <td>1320.20</td>\n",
       "      <td>1333.80</td>\n",
       "      <td>13.60</td>\n",
       "    </tr>\n",
       "    <tr>\n",
       "      <th>892</th>\n",
       "      <td>10</td>\n",
       "      <td>52710000</td>\n",
       "      <td>53995000</td>\n",
       "      <td>10</td>\n",
       "      <td>52710000</td>\n",
       "      <td>53995000</td>\n",
       "      <td>527.10</td>\n",
       "      <td>539.95</td>\n",
       "      <td>12.85</td>\n",
       "    </tr>\n",
       "    <tr>\n",
       "      <th>...</th>\n",
       "      <td>...</td>\n",
       "      <td>...</td>\n",
       "      <td>...</td>\n",
       "      <td>...</td>\n",
       "      <td>...</td>\n",
       "      <td>...</td>\n",
       "      <td>...</td>\n",
       "      <td>...</td>\n",
       "      <td>...</td>\n",
       "    </tr>\n",
       "    <tr>\n",
       "      <th>1332</th>\n",
       "      <td>10</td>\n",
       "      <td>25170000</td>\n",
       "      <td>25245000</td>\n",
       "      <td>10</td>\n",
       "      <td>25170000</td>\n",
       "      <td>25245000</td>\n",
       "      <td>251.70</td>\n",
       "      <td>252.45</td>\n",
       "      <td>0.75</td>\n",
       "    </tr>\n",
       "    <tr>\n",
       "      <th>1191</th>\n",
       "      <td>10</td>\n",
       "      <td>60090000</td>\n",
       "      <td>60160000</td>\n",
       "      <td>10</td>\n",
       "      <td>60090000</td>\n",
       "      <td>60160000</td>\n",
       "      <td>600.90</td>\n",
       "      <td>601.60</td>\n",
       "      <td>0.70</td>\n",
       "    </tr>\n",
       "    <tr>\n",
       "      <th>1269</th>\n",
       "      <td>10</td>\n",
       "      <td>98520000</td>\n",
       "      <td>98590000</td>\n",
       "      <td>10</td>\n",
       "      <td>98520000</td>\n",
       "      <td>98590000</td>\n",
       "      <td>985.20</td>\n",
       "      <td>985.90</td>\n",
       "      <td>0.70</td>\n",
       "    </tr>\n",
       "    <tr>\n",
       "      <th>1270</th>\n",
       "      <td>10</td>\n",
       "      <td>71005000</td>\n",
       "      <td>71070000</td>\n",
       "      <td>10</td>\n",
       "      <td>71005000</td>\n",
       "      <td>71070000</td>\n",
       "      <td>710.05</td>\n",
       "      <td>710.70</td>\n",
       "      <td>0.65</td>\n",
       "    </tr>\n",
       "    <tr>\n",
       "      <th>1278</th>\n",
       "      <td>10</td>\n",
       "      <td>64965000</td>\n",
       "      <td>65030000</td>\n",
       "      <td>10</td>\n",
       "      <td>64965000</td>\n",
       "      <td>65030000</td>\n",
       "      <td>649.65</td>\n",
       "      <td>650.30</td>\n",
       "      <td>0.65</td>\n",
       "    </tr>\n",
       "  </tbody>\n",
       "</table>\n",
       "<p>444 rows × 9 columns</p>\n",
       "</div>"
      ],
      "text/plain": [
       "     chr1         x1         x2 chr2         y1         y2    start      end  \\\n",
       "889    10  127640000  129495000   10  127640000  129495000  1276.40  1294.95   \n",
       "890    10   86420000   88145000   10   86420000   88145000   864.20   881.45   \n",
       "891    10    9365000   11065000   10    9365000   11065000    93.65   110.65   \n",
       "893    10  132020000  133380000   10  132020000  133380000  1320.20  1333.80   \n",
       "892    10   52710000   53995000   10   52710000   53995000   527.10   539.95   \n",
       "...   ...        ...        ...  ...        ...        ...      ...      ...   \n",
       "1332   10   25170000   25245000   10   25170000   25245000   251.70   252.45   \n",
       "1191   10   60090000   60160000   10   60090000   60160000   600.90   601.60   \n",
       "1269   10   98520000   98590000   10   98520000   98590000   985.20   985.90   \n",
       "1270   10   71005000   71070000   10   71005000   71070000   710.05   710.70   \n",
       "1278   10   64965000   65030000   10   64965000   65030000   649.65   650.30   \n",
       "\n",
       "       size  \n",
       "889   18.55  \n",
       "890   17.25  \n",
       "891   17.00  \n",
       "893   13.60  \n",
       "892   12.85  \n",
       "...     ...  \n",
       "1332   0.75  \n",
       "1191   0.70  \n",
       "1269   0.70  \n",
       "1270   0.65  \n",
       "1278   0.65  \n",
       "\n",
       "[444 rows x 9 columns]"
      ]
     },
     "execution_count": 150,
     "metadata": {},
     "output_type": "execute_result"
    }
   ],
   "source": [
    "cols = [\"chr1\", \"x1\", \"x2\", \"chr2\", \"y1\", \"y2\"]\n",
    "df = pd.read_csv(\"data/GSE63525_GM12878_primary+replicate_Arrowhead_domainlist.txt\", sep=\"\\t\", usecols=cols)\n",
    "df = df[df.chr1 == df.chr2]\n",
    "df = df[df.chr1 == str(chromosome)]\n",
    "\n",
    "df[\"start\"] = df.x1.apply(lambda x: x/1000_00)\n",
    "df[\"end\"] = df.x2.apply(lambda x: x/1000_00)\n",
    "df[\"size\"] = df.end - df.start\n",
    "\n",
    "#df[\"original_size\"] = df.x2 / 1000_000 - df.x1 / 1000_000\n",
    "\n",
    "df.sort_values(by=\"size\", ascending=False, inplace=True)\n",
    "df"
   ]
  },
  {
   "cell_type": "code",
   "execution_count": 151,
   "id": "05276315-6ae3-48c4-8b7a-61c1596d4062",
   "metadata": {},
   "outputs": [
    {
     "data": {
      "text/plain": [
       "1344.7"
      ]
     },
     "execution_count": 151,
     "metadata": {},
     "output_type": "execute_result"
    }
   ],
   "source": [
    "(df.x2.max() - df.x1.min()) / 1000_00"
   ]
  },
  {
   "cell_type": "code",
   "execution_count": 152,
   "id": "65eac789-9bca-4195-a7cd-fd6fc655475d",
   "metadata": {},
   "outputs": [
    {
     "data": {
      "text/plain": [
       "1103.249999999998"
      ]
     },
     "execution_count": 152,
     "metadata": {},
     "output_type": "execute_result"
    }
   ],
   "source": [
    "df[\"size\"].sum()"
   ]
  },
  {
   "cell_type": "code",
   "execution_count": 153,
   "id": "c35dd49d-80d2-4aad-9c94-4599ab211b47",
   "metadata": {},
   "outputs": [],
   "source": [
    "# only to check size\n",
    "df[\"size\"] = df[df[\"size\"] >= 5][\"size\"]\n",
    "df.dropna(inplace=True)"
   ]
  },
  {
   "cell_type": "code",
   "execution_count": 155,
   "id": "8048f17a-77a2-4592-bd25-ac2e94a750ca",
   "metadata": {},
   "outputs": [
    {
     "data": {
      "text/plain": [
       "0.2843155031731634"
      ]
     },
     "execution_count": 155,
     "metadata": {},
     "output_type": "execute_result"
    }
   ],
   "source": [
    "df[\"size\"].sum() / 1103"
   ]
  },
  {
   "cell_type": "code",
   "execution_count": 148,
   "id": "14df2c87",
   "metadata": {
    "collapsed": false,
    "jupyter": {
     "outputs_hidden": false
    }
   },
   "outputs": [
    {
     "data": {
      "text/plain": [
       "(8.322167484124575, 6.399999999999864)"
      ]
     },
     "execution_count": 148,
     "metadata": {},
     "output_type": "execute_result"
    }
   ],
   "source": [
    "effective_size(df[\"size\"]), df[\"size\"].median()"
   ]
  },
  {
   "cell_type": "code",
   "execution_count": 127,
   "id": "a36331a5",
   "metadata": {
    "collapsed": false,
    "jupyter": {
     "outputs_hidden": false
    }
   },
   "outputs": [
    {
     "data": {
      "text/plain": [
       "[]"
      ]
     },
     "execution_count": 127,
     "metadata": {},
     "output_type": "execute_result"
    },
    {
     "data": {
      "image/png": "[encoded data removed]",
      "text/plain": [
       "<Figure size 432x288 with 1 Axes>"
      ]
     },
     "metadata": {},
     "output_type": "display_data"
    }
   ],
   "source": [
    "sns.histplot(df, x=\"size\", bins=100)\n",
    "plt.semilogy()"
   ]
  },
  {
   "cell_type": "code",
   "execution_count": 142,
   "id": "8acca7e4",
   "metadata": {
    "collapsed": false,
    "jupyter": {
     "outputs_hidden": false
    }
   },
   "outputs": [
    {
     "data": {
      "text/plain": [
       "0      [1276, 1277, 1278, 1279, 1280, 1281, 1282, 128...\n",
       "1      [864, 865, 866, 867, 868, 869, 870, 871, 872, ...\n",
       "2      [93, 94, 95, 96, 97, 98, 99, 100, 101, 102, 10...\n",
       "3      [1320, 1321, 1322, 1323, 1324, 1325, 1326, 132...\n",
       "4      [527, 528, 529, 530, 531, 532, 533, 534, 535, ...\n",
       "                             ...                        \n",
       "439                                           [251, 252]\n",
       "440                                           [600, 601]\n",
       "441                                                [985]\n",
       "442                                                [710]\n",
       "443                                           [649, 650]\n",
       "Name: range, Length: 444, dtype: object"
      ]
     },
     "execution_count": 142,
     "metadata": {},
     "output_type": "execute_result"
    }
   ],
   "source": [
    "#df[\"size\"] = df[\"size\"].round()\n",
    "df[\"range\"] = df.apply(lambda x: range(int(x.start), int(x.end) + 1), axis=1)\n",
    "\n",
    "tads = df.range.apply(list).reset_index(drop=True)\n",
    "tads"
   ]
  },
  {
   "cell_type": "code",
   "execution_count": 137,
   "id": "3e6634d7",
   "metadata": {
    "collapsed": false,
    "jupyter": {
     "outputs_hidden": false
    }
   },
   "outputs": [
    {
     "data": {
      "text/plain": [
       "(1106, 314)"
      ]
     },
     "execution_count": 137,
     "metadata": {},
     "output_type": "execute_result"
    }
   ],
   "source": [
    "nodes = [node for tad in tads for node in tad]\n",
    "\n",
    "len(nodes), len(nodes) - len(set(nodes))"
   ]
  },
  {
   "cell_type": "code",
   "execution_count": 138,
   "id": "e080c822",
   "metadata": {
    "collapsed": false,
    "jupyter": {
     "outputs_hidden": false
    }
   },
   "outputs": [],
   "source": [
    "node_to_module = {}\n",
    "for module, nodes in tads.to_dict().items():\n",
    "    if any(node in node_to_module for node in nodes):\n",
    "        continue\n",
    "    for node in nodes:\n",
    "        node_to_module[node] = module\n",
    "\n",
    "flow = 1 / float(len(node_to_module))\n",
    "\n",
    "with open(\"output/arrowhead.clu\", \"w\") as f:\n",
    "    f.write(\"# arrowhead tads\\n\")\n",
    "    f.write(\"# node module flow\\n\")\n",
    "    for node, module in node_to_module.items():\n",
    "        f.write(f\"{node} {module + 1} {flow:.5f}\\n\")"
   ]
  },
  {
   "cell_type": "code",
   "execution_count": 139,
   "id": "295682d4",
   "metadata": {
    "collapsed": false,
    "jupyter": {
     "outputs_hidden": false
    }
   },
   "outputs": [],
   "source": [
    "max_module = max(node_to_module.values())\n",
    "max_node = 1355\n",
    "\n",
    "partition = np.arange(0, max_node, dtype=np.int32) + max_module + 1\n",
    "\n",
    "for node, module in node_to_module.items():\n",
    "    partition[node] = module\n",
    "\n",
    "alpha = 75\n",
    "gammas = np.arange(50, 205, 5, dtype=np.int32)\n",
    "ami = []\n",
    "\n",
    "for gamma in gammas:\n",
    "    partitions = pd.read_csv(f\"matlab/output/A1_chr{chromosome}_gamma{gamma}_alpha{alpha}_partitions.csv\", sep=\" \", header=None)\n",
    "    ami_ = adjusted_mutual_info_score(partition, partitions[0])\n",
    "    ami.append(ami_)"
   ]
  },
  {
   "cell_type": "code",
   "execution_count": 140,
   "id": "7085a695",
   "metadata": {
    "collapsed": false,
    "jupyter": {
     "outputs_hidden": false
    }
   },
   "outputs": [
    {
     "data": {
      "text/plain": [
       "0.5266031497608227"
      ]
     },
     "execution_count": 140,
     "metadata": {},
     "output_type": "execute_result"
    }
   ],
   "source": [
    "max(ami)"
   ]
  },
  {
   "cell_type": "code",
   "execution_count": 141,
   "id": "e7b1348d",
   "metadata": {
    "collapsed": false,
    "jupyter": {
     "outputs_hidden": false
    }
   },
   "outputs": [
    {
     "data": {
      "image/png": "[encoded data removed]",
      "text/plain": [
       "<Figure size 432x288 with 1 Axes>"
      ]
     },
     "metadata": {},
     "output_type": "display_data"
    }
   ],
   "source": [
    "sns.set_style(\"white\")\n",
    "plt.scatter([gamma/100 for gamma in gammas], ami)\n",
    "plt.ylabel(\"AMI\")\n",
    "plt.xlabel(\"$\\gamma$\")\n",
    "plt.title(\"AMI with arrowhead TADs ($\\\\alpha=0.75$)\")\n",
    "plt.savefig(f\"results/tads_ami_alpha{alpha}.png\", dpi=600, bbox_inches=\"tight\")"
   ]
  },
  {
   "cell_type": "markdown",
   "id": "c4b35fc2-48e5-41e4-97d6-23f1c07ae564",
   "metadata": {},
   "source": [
    "# A/B compartments"
   ]
  },
  {
   "cell_type": "code",
   "execution_count": 17,
   "id": "e533cea3-a265-4486-ac77-7e2daba8abcd",
   "metadata": {},
   "outputs": [
    {
     "data": {
      "text/html": [
       "<div>\n",
       "<style scoped>\n",
       "    .dataframe tbody tr th:only-of-type {\n",
       "        vertical-align: middle;\n",
       "    }\n",
       "\n",
       "    .dataframe tbody tr th {\n",
       "        vertical-align: top;\n",
       "    }\n",
       "\n",
       "    .dataframe thead th {\n",
       "        text-align: right;\n",
       "    }\n",
       "</style>\n",
       "<table border=\"1\" class=\"dataframe\">\n",
       "  <thead>\n",
       "    <tr style=\"text-align: right;\">\n",
       "      <th></th>\n",
       "      <th>x1</th>\n",
       "      <th>x2</th>\n",
       "      <th>comp</th>\n",
       "      <th>super</th>\n",
       "      <th>start</th>\n",
       "      <th>end</th>\n",
       "      <th>range</th>\n",
       "      <th>size</th>\n",
       "      <th>original_size</th>\n",
       "    </tr>\n",
       "  </thead>\n",
       "  <tbody>\n",
       "    <tr>\n",
       "      <th>2</th>\n",
       "      <td>900000</td>\n",
       "      <td>1100000</td>\n",
       "      <td>A1</td>\n",
       "      <td>A</td>\n",
       "      <td>9</td>\n",
       "      <td>11</td>\n",
       "      <td>(9, 10)</td>\n",
       "      <td>2</td>\n",
       "      <td>200000</td>\n",
       "    </tr>\n",
       "    <tr>\n",
       "      <th>6</th>\n",
       "      <td>3100000</td>\n",
       "      <td>3200000</td>\n",
       "      <td>A2</td>\n",
       "      <td>A</td>\n",
       "      <td>31</td>\n",
       "      <td>32</td>\n",
       "      <td>(31)</td>\n",
       "      <td>1</td>\n",
       "      <td>100000</td>\n",
       "    </tr>\n",
       "    <tr>\n",
       "      <th>12</th>\n",
       "      <td>3800000</td>\n",
       "      <td>4100000</td>\n",
       "      <td>A2</td>\n",
       "      <td>A</td>\n",
       "      <td>38</td>\n",
       "      <td>41</td>\n",
       "      <td>(38, 39, 40)</td>\n",
       "      <td>3</td>\n",
       "      <td>300000</td>\n",
       "    </tr>\n",
       "    <tr>\n",
       "      <th>16</th>\n",
       "      <td>5600000</td>\n",
       "      <td>5800000</td>\n",
       "      <td>A2</td>\n",
       "      <td>A</td>\n",
       "      <td>56</td>\n",
       "      <td>58</td>\n",
       "      <td>(56, 57)</td>\n",
       "      <td>2</td>\n",
       "      <td>200000</td>\n",
       "    </tr>\n",
       "    <tr>\n",
       "      <th>17</th>\n",
       "      <td>5800000</td>\n",
       "      <td>6000000</td>\n",
       "      <td>A1</td>\n",
       "      <td>A</td>\n",
       "      <td>58</td>\n",
       "      <td>60</td>\n",
       "      <td>(58, 59)</td>\n",
       "      <td>2</td>\n",
       "      <td>200000</td>\n",
       "    </tr>\n",
       "    <tr>\n",
       "      <th>...</th>\n",
       "      <td>...</td>\n",
       "      <td>...</td>\n",
       "      <td>...</td>\n",
       "      <td>...</td>\n",
       "      <td>...</td>\n",
       "      <td>...</td>\n",
       "      <td>...</td>\n",
       "      <td>...</td>\n",
       "      <td>...</td>\n",
       "    </tr>\n",
       "    <tr>\n",
       "      <th>212</th>\n",
       "      <td>128700000</td>\n",
       "      <td>129800000</td>\n",
       "      <td>B2</td>\n",
       "      <td>B</td>\n",
       "      <td>1287</td>\n",
       "      <td>1298</td>\n",
       "      <td>(1287, 1288, 1289, 1290, 1291, 1292, 1293, 129...</td>\n",
       "      <td>11</td>\n",
       "      <td>1100000</td>\n",
       "    </tr>\n",
       "    <tr>\n",
       "      <th>214</th>\n",
       "      <td>130000000</td>\n",
       "      <td>131900000</td>\n",
       "      <td>B2</td>\n",
       "      <td>B</td>\n",
       "      <td>1300</td>\n",
       "      <td>1319</td>\n",
       "      <td>(1300, 1301, 1302, 1303, 1304, 1305, 1306, 130...</td>\n",
       "      <td>19</td>\n",
       "      <td>1900000</td>\n",
       "    </tr>\n",
       "    <tr>\n",
       "      <th>216</th>\n",
       "      <td>132000000</td>\n",
       "      <td>133700000</td>\n",
       "      <td>B2</td>\n",
       "      <td>B</td>\n",
       "      <td>1320</td>\n",
       "      <td>1337</td>\n",
       "      <td>(1320, 1321, 1322, 1323, 1324, 1325, 1326, 132...</td>\n",
       "      <td>17</td>\n",
       "      <td>1700000</td>\n",
       "    </tr>\n",
       "    <tr>\n",
       "      <th>217</th>\n",
       "      <td>133700000</td>\n",
       "      <td>135100000</td>\n",
       "      <td>B1</td>\n",
       "      <td>B</td>\n",
       "      <td>1337</td>\n",
       "      <td>1351</td>\n",
       "      <td>(1337, 1338, 1339, 1340, 1341, 1342, 1343, 134...</td>\n",
       "      <td>14</td>\n",
       "      <td>1400000</td>\n",
       "    </tr>\n",
       "    <tr>\n",
       "      <th>219</th>\n",
       "      <td>135200000</td>\n",
       "      <td>135500000</td>\n",
       "      <td>B1</td>\n",
       "      <td>B</td>\n",
       "      <td>1352</td>\n",
       "      <td>1355</td>\n",
       "      <td>(1352, 1353, 1354)</td>\n",
       "      <td>3</td>\n",
       "      <td>300000</td>\n",
       "    </tr>\n",
       "  </tbody>\n",
       "</table>\n",
       "<p>206 rows × 9 columns</p>\n",
       "</div>"
      ],
      "text/plain": [
       "            x1         x2 comp super  start   end  \\\n",
       "2       900000    1100000   A1     A      9    11   \n",
       "6      3100000    3200000   A2     A     31    32   \n",
       "12     3800000    4100000   A2     A     38    41   \n",
       "16     5600000    5800000   A2     A     56    58   \n",
       "17     5800000    6000000   A1     A     58    60   \n",
       "..         ...        ...  ...   ...    ...   ...   \n",
       "212  128700000  129800000   B2     B   1287  1298   \n",
       "214  130000000  131900000   B2     B   1300  1319   \n",
       "216  132000000  133700000   B2     B   1320  1337   \n",
       "217  133700000  135100000   B1     B   1337  1351   \n",
       "219  135200000  135500000   B1     B   1352  1355   \n",
       "\n",
       "                                                 range  size  original_size  \n",
       "2                                              (9, 10)     2         200000  \n",
       "6                                                 (31)     1         100000  \n",
       "12                                        (38, 39, 40)     3         300000  \n",
       "16                                            (56, 57)     2         200000  \n",
       "17                                            (58, 59)     2         200000  \n",
       "..                                                 ...   ...            ...  \n",
       "212  (1287, 1288, 1289, 1290, 1291, 1292, 1293, 129...    11        1100000  \n",
       "214  (1300, 1301, 1302, 1303, 1304, 1305, 1306, 130...    19        1900000  \n",
       "216  (1320, 1321, 1322, 1323, 1324, 1325, 1326, 132...    17        1700000  \n",
       "217  (1337, 1338, 1339, 1340, 1341, 1342, 1343, 134...    14        1400000  \n",
       "219                                 (1352, 1353, 1354)     3         300000  \n",
       "\n",
       "[206 rows x 9 columns]"
      ]
     },
     "execution_count": 17,
     "metadata": {},
     "output_type": "execute_result"
    }
   ],
   "source": [
    "comp = pd.read_csv(\"data/GSE63525_GM12878_subcompartments.bed\", sep=\"\\t\", names=[\"chr\", \"x1\", \"x2\", \"comp\", \"UNKNOWN1\", \"UNKNOWN2\", \"y1\", \"y2\", \"color\"], index_col=False)\n",
    "\n",
    "comp = comp[comp.chr == f\"chr{chromosome}\"].reset_index(drop=True)\n",
    "\n",
    "comp = comp.drop(columns=[\"chr\", \"UNKNOWN1\", \"UNKNOWN2\", \"y1\", \"y2\", \"color\"])\n",
    "comp = comp.dropna(subset=\"comp\")\n",
    "\n",
    "comp[\"super\"] = comp.comp.apply(lambda c: c[0])\n",
    "\n",
    "comp[\"start\"] = comp.x1.apply(lambda x: x // 100_000) # 100 kb\n",
    "comp[\"end\"] =   comp.x2.apply(lambda x: x // 100_000)\n",
    "\n",
    "comp[\"range\"] = comp.apply(lambda x: range(x.start, x.end), axis=1)\n",
    "\n",
    "comp[\"size\"] = comp.end - comp.start\n",
    "comp[\"original_size\"] = comp.x2 - comp.x1\n",
    "\n",
    "comp.sort_values(by=[\"super\", \"start\"], inplace=True)\n",
    "comp"
   ]
  },
  {
   "cell_type": "code",
   "execution_count": 18,
   "id": "c51b9157-1d98-4697-b5a2-0b6a77f9af80",
   "metadata": {},
   "outputs": [
    {
     "data": {
      "text/plain": [
       "[]"
      ]
     },
     "execution_count": 18,
     "metadata": {},
     "output_type": "execute_result"
    },
    {
     "data": {
      "image/png": "[encoded data removed]",
      "text/plain": [
       "<Figure size 360x360 with 1 Axes>"
      ]
     },
     "metadata": {},
     "output_type": "display_data"
    }
   ],
   "source": [
    "sns.displot(comp, x=\"original_size\")\n",
    "plt.semilogy()"
   ]
  },
  {
   "cell_type": "code",
   "execution_count": 12,
   "id": "0d814bfa-1bc9-494f-9c01-24682140b45d",
   "metadata": {},
   "outputs": [
    {
     "data": {
      "text/plain": [
       "comp\n",
       "A1    [(9, 10), (58, 59), (120, 121, 122, 123, 124),...\n",
       "A2    [(31), (38, 39, 40), (56, 57), (60, 61, 62, 63...\n",
       "B1    [(1, 2, 3, 4, 5, 6, 7, 8), (11, 12, 13, 14, 15...\n",
       "B2    [(18, 19, 20, 21, 22, 23, 24, 25, 26, 27, 28, ...\n",
       "B3    [(525), (527), (529), (531, 532, 533, 534, 535...\n",
       "Name: range, dtype: object"
      ]
     },
     "execution_count": 12,
     "metadata": {},
     "output_type": "execute_result"
    }
   ],
   "source": [
    "#C = comp.groupby(\"comp\")[\"range\"].agg(lambda x: list(itertools.chain(*x)))\n",
    "C = comp.groupby(\"comp\")[\"range\"].agg(lambda x: list(x))\n",
    "C"
   ]
  },
  {
   "cell_type": "code",
   "execution_count": 13,
   "id": "912c7086-d601-41d3-aa34-6688c162ac7b",
   "metadata": {},
   "outputs": [
    {
     "data": {
      "text/plain": [
       "1101.7923141198453"
      ]
     },
     "execution_count": 13,
     "metadata": {},
     "output_type": "execute_result"
    }
   ],
   "source": [
    "#effective_size(comp.groupby(\"comp\")[\"range\"].agg(lambda r: len(list(itertools.chain(*r))))) * 100\n",
    "effective_size(comp[\"original_size\"]) / 1000\n",
    "#comp[\"range\"].agg(lambda x: len(x) * 100).describe()"
   ]
  },
  {
   "cell_type": "code",
   "execution_count": 14,
   "id": "4e699648",
   "metadata": {
    "collapsed": false,
    "jupyter": {
     "outputs_hidden": false
    }
   },
   "outputs": [
    {
     "data": {
      "text/plain": [
       "comp\n",
       "A1    11500.0\n",
       "A2    34300.0\n",
       "B1    17700.0\n",
       "B2    32900.0\n",
       "B3    31100.0\n",
       "Name: original_size, dtype: float64"
      ]
     },
     "execution_count": 14,
     "metadata": {},
     "output_type": "execute_result"
    }
   ],
   "source": [
    "comp.groupby(\"comp\")[\"original_size\"].sum() / 1000"
   ]
  },
  {
   "cell_type": "markdown",
   "id": "952f4a0b-82f1-4686-879d-e3582baff0be",
   "metadata": {},
   "source": [
    "# Write clu file"
   ]
  },
  {
   "cell_type": "code",
   "execution_count": 15,
   "id": "92946071-5251-415e-a89b-86e691fb5333",
   "metadata": {},
   "outputs": [],
   "source": [
    "with open(f\"output/A12B123.clu\", \"w\") as f:\n",
    "    f.write(\"# aoeu\\n\")\n",
    "    \n",
    "    flow = 1 / comp.end.max()\n",
    "    \n",
    "    for label, c in enumerate(C):\n",
    "        for pos in c:\n",
    "            f.write(f\"{pos - 1} {label} {flow}\\n\")"
   ]
  },
  {
   "cell_type": "code",
   "execution_count": 76,
   "id": "49d00f5b-4c98-4478-ad42-055dac2603f8",
   "metadata": {},
   "outputs": [],
   "source": [
    "with open(f\"output/A12B123.tree\", \"w\") as f:\n",
    "    f.write(\"# A/B-compartments\\n\")\n",
    "    \n",
    "    flow = 1 / comp.end.max()\n",
    "    \n",
    "    i = 1\n",
    "    \n",
    "    for compartment, c in C.iteritems():\n",
    "        for sub, range_ in enumerate(c):\n",
    "            for pos in range_:\n",
    "                # path flow name id\n",
    "                path = f\"{1 if compartment.startswith('B') else 2}:{compartment[-1]}:{sub+1}:{i}\"\n",
    "                i += 1\n",
    "                id_ = pos - 1\n",
    "                f.write(f\"{path} {flow} \\\"{id_}\\\" {id_}\\n\")"
   ]
  },
  {
   "cell_type": "markdown",
   "id": "dc13e011-0dc7-45dd-adff-55a98e853cdd",
   "metadata": {},
   "source": [
    "## AMI with best partition"
   ]
  },
  {
   "cell_type": "code",
   "execution_count": 7,
   "id": "e142e624-2caa-4fef-bdef-4febf6cd538a",
   "metadata": {},
   "outputs": [
    {
     "data": {
      "text/plain": [
       "array([  93,   93,   93, ...,  145,  145, 2354], dtype=int32)"
      ]
     },
     "execution_count": 7,
     "metadata": {},
     "output_type": "execute_result"
    }
   ],
   "source": [
    "from collections import defaultdict\n",
    "\n",
    "size = comp.end.max()\n",
    "\n",
    "partition = np.arange(0, size, dtype=np.int32) + 1000\n",
    "\n",
    "label_id = defaultdict(lambda: len(label_id) + 1)\n",
    "\n",
    "for label, (compartment, c) in enumerate(C.iteritems()):\n",
    "    for sub, range_ in enumerate(c):\n",
    "        for pos in range_:\n",
    "            #partition[pos - 1] = 1 if compartment == 'B' else 0\n",
    "            partition[pos - 1] = label_id[f\"{label}:{sub}\"]\n",
    "\n",
    "partition"
   ]
  },
  {
   "cell_type": "code",
   "execution_count": 8,
   "id": "45d06ee5-3d1f-4b98-899f-ce5737f6938c",
   "metadata": {},
   "outputs": [
    {
     "name": "stdout",
     "output_type": "stream",
     "text": [
      "gamma=50 0.3416414112668198\n",
      "gamma=55 0.37660654632104446\n",
      "gamma=60 0.4339998885189197\n",
      "gamma=65 0.5094981244123907\n",
      "gamma=70 0.552320484979882\n",
      "gamma=75 0.6030960313072515\n",
      "gamma=80 0.6266490099834007\n",
      "gamma=85 0.6549387769812152\n",
      "gamma=90 0.6713756718370867\n",
      "gamma=95 0.6729049984159914\n",
      "gamma=100 0.6816013675944532\n",
      "gamma=105 0.6982451747164993\n",
      "gamma=110 0.7141142245671251\n",
      "gamma=115 0.719506104995707\n",
      "gamma=120 0.7187560605710698\n",
      "gamma=125 0.7041496317265913\n",
      "gamma=130 0.6914713138679486\n"
     ]
    }
   ],
   "source": [
    "gammas = [50, 55, 60, 65, 70, 75, 80, 85, 90, 95, 100, 105, 110, 115, 120, 125, 130]\n",
    "ami = []\n",
    "ari = []\n",
    "alpha = 75\n",
    "\n",
    "for gamma in gammas:\n",
    "    partitions = pd.read_csv(f\"matlab/output/A1_chr{chromosome}_gamma{gamma}_alpha{alpha}_partitions.csv\", sep=\" \", header=None)\n",
    "    ami_ = adjusted_mutual_info_score(partition, partitions[0])\n",
    "    ari_ = adjusted_rand_score(partition, partitions[0])\n",
    "    ami.append(ami_)\n",
    "    ari.append(ari_)\n",
    "    print(f\"{gamma=}\", ami_)"
   ]
  },
  {
   "cell_type": "code",
   "execution_count": 9,
   "id": "698d6f84-9c9c-4e3f-bd8e-343fb4909a78",
   "metadata": {},
   "outputs": [
    {
     "data": {
      "image/png": "[encoded data removed]",
      "text/plain": [
       "<Figure size 432x288 with 1 Axes>"
      ]
     },
     "metadata": {},
     "output_type": "display_data"
    }
   ],
   "source": [
    "plt.scatter(gammas, ami)\n",
    "#plt.scatter(gammas, ari)\n",
    "plt.xlabel(\"$\\gamma$\")\n",
    "plt.ylabel(\"$AMI$\")\n",
    "plt.savefig(\"results/ami.png\", dpi=600)"
   ]
  },
  {
   "cell_type": "code",
   "execution_count": 74,
   "id": "3580b4ab",
   "metadata": {
    "collapsed": false,
    "jupyter": {
     "outputs_hidden": false
    }
   },
   "outputs": [
    {
     "name": "stdout",
     "output_type": "stream",
     "text": [
      "135\n"
     ]
    }
   ],
   "source": [
    "nodes = pd.read_csv(\"matlab/output/A1_chr10_gamma50_alpha108.csv\", sep=\" \", header=None)[0]\n",
    "flow = 1/len(nodes)\n",
    "nodes_per_module = 10\n",
    "n_modules = int(len(nodes) / nodes_per_module)\n",
    "print(n_modules)\n",
    "with open(f\"output/nodes_{nodes_per_module}.tree\", \"w\") as f:\n",
    "    f.write(\"# nodes\\n\")\n",
    "    f.write(\"#path flow name node_id\\n\")\n",
    "    i = 0\n",
    "    for module in range(n_modules):\n",
    "        for node_num in range(nodes_per_module):\n",
    "            f.write(f\"{module + 1}:{nodes[i] + 1} {flow} \\\"{nodes[i]}\\\" {nodes[i]}\\n\")\n",
    "            i += 1"
   ]
  },
  {
   "cell_type": "code",
   "execution_count": 70,
   "id": "5822edb2",
   "metadata": {
    "collapsed": false,
    "jupyter": {
     "outputs_hidden": false
    }
   },
   "outputs": [
    {
     "data": {
      "text/plain": [
       "89.25018374673634"
      ]
     },
     "execution_count": 70,
     "metadata": {},
     "output_type": "execute_result"
    }
   ],
   "source": [
    "effective_size(pd.read_csv(\"matlab/output/A1_chr10_gamma130_alpha75_partitions.csv\", sep=\" \", header=None)[0])"
   ]
  },
  {
   "cell_type": "code",
   "execution_count": 53,
   "id": "55503e34",
   "metadata": {
    "collapsed": false,
    "jupyter": {
     "outputs_hidden": false
    }
   },
   "outputs": [
    {
     "data": {
      "image/png": "[encoded data removed]",
      "text/plain": [
       "<Figure size 144x1440 with 1 Axes>"
      ]
     },
     "metadata": {},
     "output_type": "display_data"
    }
   ],
   "source": [
    "sns.set(rc={\"figure.figsize\": (2, 20)})\n",
    "sns.set(font_scale=3)\n",
    "sns.set_style(\"ticks\")\n",
    "ax = sns.lineplot(nodes)\n",
    "ax.invert_yaxis()\n",
    "sns.despine(bottom=True)\n",
    "plt.ylabel(\"position (100 kb)\")\n",
    "plt.ylim([max(nodes), 0])\n",
    "plt.xticks([])\n",
    "plt.savefig(\"results/pos_y_axis.pdf\", bbox_inches=\"tight\")"
   ]
  },
  {
   "cell_type": "markdown",
   "id": "14c2f011-942f-45e2-be57-4e62b92cdbfa",
   "metadata": {},
   "source": [
    "## Jaccard index with core communities"
   ]
  },
  {
   "cell_type": "code",
   "execution_count": 448,
   "id": "6533196c-b8bd-4590-a568-097c18eabfa9",
   "metadata": {
    "tags": []
   },
   "outputs": [
    {
     "data": {
      "text/html": [
       "<div>\n",
       "<style scoped>\n",
       "    .dataframe tbody tr th:only-of-type {\n",
       "        vertical-align: middle;\n",
       "    }\n",
       "\n",
       "    .dataframe tbody tr th {\n",
       "        vertical-align: top;\n",
       "    }\n",
       "\n",
       "    .dataframe thead th {\n",
       "        text-align: right;\n",
       "    }\n",
       "</style>\n",
       "<table border=\"1\" class=\"dataframe\">\n",
       "  <thead>\n",
       "    <tr style=\"text-align: right;\">\n",
       "      <th></th>\n",
       "      <th>module</th>\n",
       "      <th>node</th>\n",
       "    </tr>\n",
       "  </thead>\n",
       "  <tbody>\n",
       "    <tr>\n",
       "      <th>0</th>\n",
       "      <td>1</td>\n",
       "      <td>1</td>\n",
       "    </tr>\n",
       "    <tr>\n",
       "      <th>1</th>\n",
       "      <td>1</td>\n",
       "      <td>2</td>\n",
       "    </tr>\n",
       "    <tr>\n",
       "      <th>2</th>\n",
       "      <td>1</td>\n",
       "      <td>3</td>\n",
       "    </tr>\n",
       "    <tr>\n",
       "      <th>3</th>\n",
       "      <td>1</td>\n",
       "      <td>4</td>\n",
       "    </tr>\n",
       "    <tr>\n",
       "      <th>4</th>\n",
       "      <td>1</td>\n",
       "      <td>5</td>\n",
       "    </tr>\n",
       "    <tr>\n",
       "      <th>...</th>\n",
       "      <td>...</td>\n",
       "      <td>...</td>\n",
       "    </tr>\n",
       "    <tr>\n",
       "      <th>1330</th>\n",
       "      <td>1</td>\n",
       "      <td>1351</td>\n",
       "    </tr>\n",
       "    <tr>\n",
       "      <th>1331</th>\n",
       "      <td>1</td>\n",
       "      <td>1352</td>\n",
       "    </tr>\n",
       "    <tr>\n",
       "      <th>1332</th>\n",
       "      <td>1</td>\n",
       "      <td>1353</td>\n",
       "    </tr>\n",
       "    <tr>\n",
       "      <th>1333</th>\n",
       "      <td>1</td>\n",
       "      <td>1354</td>\n",
       "    </tr>\n",
       "    <tr>\n",
       "      <th>1334</th>\n",
       "      <td>1</td>\n",
       "      <td>1355</td>\n",
       "    </tr>\n",
       "  </tbody>\n",
       "</table>\n",
       "<p>1335 rows × 2 columns</p>\n",
       "</div>"
      ],
      "text/plain": [
       "      module  node\n",
       "0          1     1\n",
       "1          1     2\n",
       "2          1     3\n",
       "3          1     4\n",
       "4          1     5\n",
       "...      ...   ...\n",
       "1330       1  1351\n",
       "1331       1  1352\n",
       "1332       1  1353\n",
       "1333       1  1354\n",
       "1334       1  1355\n",
       "\n",
       "[1335 rows x 2 columns]"
      ]
     },
     "execution_count": 448,
     "metadata": {},
     "output_type": "execute_result"
    }
   ],
   "source": [
    "gamma = 50\n",
    "df = pd.read_csv(f\"output/A1_chr{chromosome}_gamma{gamma}_significant_0.csv\").sort_values(\"node\").reset_index(drop=True)\n",
    "df.node = df.node + 1\n",
    "df"
   ]
  },
  {
   "cell_type": "code",
   "execution_count": 449,
   "id": "32e794e0-d096-46f4-a384-1b636670e682",
   "metadata": {},
   "outputs": [],
   "source": [
    "def jaccard_index(p, q):\n",
    "    p = set(p)\n",
    "    q = set(q)\n",
    "    return len(p.intersection(q)) / len(p.union(q))"
   ]
  },
  {
   "cell_type": "code",
   "execution_count": 450,
   "id": "fe3890fa-cb6a-416d-962f-abf5b6d05f09",
   "metadata": {
    "tags": []
   },
   "outputs": [
    {
     "data": {
      "text/plain": [
       "0          1\n",
       "1          2\n",
       "2          3\n",
       "3          4\n",
       "4          5\n",
       "        ... \n",
       "1330    1351\n",
       "1331    1352\n",
       "1332    1353\n",
       "1333    1354\n",
       "1334    1355\n",
       "Name: node, Length: 1289, dtype: int64"
      ]
     },
     "execution_count": 450,
     "metadata": {},
     "output_type": "execute_result"
    }
   ],
   "source": [
    "df[df.module == 1].node"
   ]
  },
  {
   "cell_type": "code",
   "execution_count": 451,
   "id": "857f8ee3-f44d-4ec5-9ac5-3eb5f0eadd91",
   "metadata": {},
   "outputs": [],
   "source": [
    "ji = []\n",
    "\n",
    "label = \"B\"\n",
    "\n",
    "for gamma in gammas:\n",
    "    try:\n",
    "        df = pd.read_csv(f\"output/A1_chr{chromosome}_gamma{gamma}_significant_0.csv\").sort_values(\"node\").reset_index(drop=True)\n",
    "    except FileNotFoundError:\n",
    "        break\n",
    "    df.node = df.node + 1\n",
    "    ji.append(jaccard_index(C[label], df[df.module == 2].node))"
   ]
  },
  {
   "cell_type": "code",
   "execution_count": 452,
   "id": "10763e6f-194f-4c63-9910-c3df9fa6bae0",
   "metadata": {},
   "outputs": [
    {
     "data": {
      "image/png": "[encoded data removed]",
      "text/plain": [
       "<Figure size 640x480 with 1 Axes>"
      ]
     },
     "metadata": {},
     "output_type": "display_data"
    }
   ],
   "source": [
    "plt.scatter(gammas[0:6], ji)\n",
    "plt.xlabel(\"$\\gamma$\")\n",
    "plt.ylabel(f\"Jaccard Index$({label})$\")\n",
    "plt.ylim(-0.015, top=0.5)\n",
    "plt.savefig(f\"results/ji_{label}.png\", dpi=600)"
   ]
  },
  {
   "cell_type": "code",
   "execution_count": null,
   "id": "c6b7aa04-a90a-4c3f-8faf-0c30e8008c57",
   "metadata": {},
   "outputs": [],
   "source": []
  },
  {
   "cell_type": "code",
   "execution_count": null,
   "id": "4c68d2c3-f429-4503-9018-4bf235e83231",
   "metadata": {},
   "outputs": [],
   "source": []
  }
 ],
 "metadata": {
  "kernelspec": {
   "display_name": "Python 3 (ipykernel)",
   "language": "python",
   "name": "python3"
  },
  "language_info": {
   "codemirror_mode": {
    "name": "ipython",
    "version": 3
   },
   "file_extension": ".py",
   "mimetype": "text/x-python",
   "name": "python",
   "nbconvert_exporter": "python",
   "pygments_lexer": "ipython3",
   "version": "3.9.7"
  }
 },
 "nbformat": 4,
 "nbformat_minor": 5
}
